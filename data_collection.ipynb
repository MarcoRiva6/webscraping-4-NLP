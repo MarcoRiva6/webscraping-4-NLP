{
 "cells": [
  {
   "metadata": {},
   "cell_type": "markdown",
   "source": "# Define previous scraping functions",
   "id": "4bf6943b72392a54"
  },
  {
   "metadata": {
    "ExecuteTime": {
     "end_time": "2024-12-20T15:22:36.561397Z",
     "start_time": "2024-12-20T15:22:36.555923Z"
    }
   },
   "cell_type": "code",
   "source": [
    "# helper functions\n",
    "def hash_function(text):\n",
    "    return abs(hash(text)) % (10**8)"
   ],
   "id": "71345e3dfe83bf6f",
   "outputs": [],
   "execution_count": 1
  },
  {
   "metadata": {},
   "cell_type": "markdown",
   "source": "From YELP",
   "id": "367a7dbe74159640"
  },
  {
   "cell_type": "code",
   "id": "initial_id",
   "metadata": {
    "collapsed": true,
    "ExecuteTime": {
     "end_time": "2024-12-20T15:22:41.032374Z",
     "start_time": "2024-12-20T15:22:36.563861Z"
    }
   },
   "source": [
    "import requests\n",
    "\n",
    "API_KEY = \"e2d13cd3a0msh972b270d9391f69p17bd85jsn44d5cbf79484\"\n",
    "BASE_URL = \"https://red-flower-business-data.p.rapidapi.com\"\n",
    "SEARCH_URL = f\"{BASE_URL}/business-search\"\n",
    "REVIEWS_URL = f\"{BASE_URL}/business-reviews\"\n",
    "\n",
    "# Define the search parameters\n",
    "headers = {\"X-RapidAPI-Key\": API_KEY}\n",
    "params = {\n",
    "    \"query\": \" \",\n",
    "    \"location\": \"Rome, Italy\",\n",
    "    \"categories\": \"italian restaurants\",\n",
    "    \"limit\": 10,\n",
    "    \"sort_by\": \"HIGHEST_RATED\"\n",
    "}\n",
    "\n",
    "# Make the request\n",
    "response = requests.get(SEARCH_URL, headers=headers, params=params)\n",
    "\n",
    "# Parse the response\n",
    "if response.status_code == 200:\n",
    "    data = response.json()\n",
    "    for business in data['data']:\n",
    "        url = f\"{REVIEWS_URL}?business_id={business['id']}&page=1&page_size=10\"\n",
    "        response_business = requests.get(url, headers=headers)\n",
    "        if response_business.status_code == 200:\n",
    "            data_business = response_business.json()['data']\n",
    "            review_count = data_business.get('total')\n",
    "            reviews = data_business.get(\"reviews\")\n",
    "            if len(reviews) > 0:\n",
    "                first_review = reviews[0]['review_text']\n",
    "                print(f\"Name: {business['name']}\")\n",
    "                print(f\"Rating: {business['rating']}\")\n",
    "                print(f\"Review count: {review_count}\")\n",
    "                print(f\"First Review: {first_review[0:min(40, len(first_review))]}...\")\n",
    "                print(\"-\" * 40)\n",
    "else:\n",
    "    print(f\"Error: {response.status_code} - {response.text}\")"
   ],
   "outputs": [],
   "execution_count": 2
  },
  {
   "metadata": {
    "ExecuteTime": {
     "end_time": "2024-12-20T15:22:41.038138Z",
     "start_time": "2024-12-20T15:22:41.034458Z"
    }
   },
   "cell_type": "code",
   "source": [
    "def get_yelp_reviews(max_restaurants, max_reviews):\n",
    "    \"\"\"\n",
    "    retrieves reviews from OpenTable.\n",
    "    :return: A list of reviews, each being: {'review_id', 'restaurant_id', 'restaurant', 'text', 'date'}\n",
    "    \"\"\""
   ],
   "id": "553f7711bd0f623a",
   "outputs": [],
   "execution_count": 3
  },
  {
   "metadata": {},
   "cell_type": "markdown",
   "source": "From OpenTalbe",
   "id": "5e05206ce57826"
  },
  {
   "metadata": {
    "ExecuteTime": {
     "end_time": "2024-12-20T15:22:41.091781Z",
     "start_time": "2024-12-20T15:22:41.039559Z"
    }
   },
   "cell_type": "code",
   "source": [
    "from selenium import webdriver\n",
    "from selenium.webdriver.common.by import By\n",
    "import time\n",
    "import hashlib\n",
    "\n",
    "# needed so to have the lists (restaurants and reviews) loaded from the website\n",
    "def scroll_down_page(driver, speed=8):\n",
    "    current_scroll_position, new_height= 0, 1\n",
    "    while current_scroll_position <= new_height:\n",
    "        current_scroll_position += speed\n",
    "        driver.execute_script(\"window.scrollTo(0, {});\".format(current_scroll_position))\n",
    "        new_height = driver.execute_script(\"return document.body.scrollHeight\")\n",
    "\n",
    "# obtain the list of restaurants based on the predefined criteria\n",
    "def scrape_opentable_restaurants(keep_open=False, max_restaurants=10):\n",
    "    # queries OpenTable restaurants in 'Paris' under 'Italian' cousine category, ordered by rating\n",
    "    url = \"https://www.opentable.com/s?term=paris&cuisineIds%5B%5D=48e9d049-40cf-4cb9-98d9-8c47d0d58986&sortBy=rating\"\n",
    "\n",
    "    # open the browser\n",
    "    driver = webdriver.Chrome()\n",
    "    driver.get(url)\n",
    "    time.sleep(3)\n",
    "    # scroll down the page so to have all the restaurants loaded\n",
    "    scroll_down_page(driver)\n",
    "    time.sleep(3)\n",
    "\n",
    "    restaurants = []\n",
    "\n",
    "    try:\n",
    "        # Extract restaurant elements\n",
    "        restaurant_elements = driver.find_elements(By.CLASS_NAME, 'qCITanV81-Y-')\n",
    "        restaurant_counter = 0\n",
    "        for restaurant_element in restaurant_elements:\n",
    "            try:\n",
    "                restaurant_name = restaurant_element.text # name\n",
    "                restaurant_link = restaurant_element.get_attribute('href') # link\n",
    "                restaurant_link = restaurant_link[:-122] # remove parameters\n",
    "                restaurants.append({'restaurant_name': restaurant_name, 'restaurant_link': restaurant_link})\n",
    "                restaurant_counter += 1\n",
    "                if max_restaurants != 0 and restaurant_counter >= max_restaurants:\n",
    "                    break\n",
    "\n",
    "            except Exception as e:\n",
    "                print(f\"Error extracting restaurants: {e}\")\n",
    "                continue\n",
    "\n",
    "    except Exception as e:\n",
    "        print(f\"Error during scraping: {e}\")\n",
    "    finally:\n",
    "        if not keep_open:\n",
    "            driver.quit()\n",
    "\n",
    "    return restaurants, driver\n",
    "\n",
    "# scrape reviews from the given restaurant\n",
    "def scrape_opentable_reviews(driver, url, keep_open=False, max_reviews=10):\n",
    "\n",
    "    # open the browser if not already open\n",
    "    if driver is None:\n",
    "        driver = webdriver.Chrome()\n",
    "    driver.get(url)\n",
    "    time.sleep(3)\n",
    "\n",
    "    reviews = []\n",
    "\n",
    "    try:\n",
    "        # scroll down the page so to have all the reviews loaded\n",
    "        scroll_down_page(driver)\n",
    "        time.sleep(1)\n",
    "        # Extract review elements\n",
    "        review_elements = driver.find_elements(By.CLASS_NAME, 'afkKaa-4T28-')\n",
    "        review_counter = 0\n",
    "\n",
    "        for review_element in review_elements:\n",
    "            try:\n",
    "                review_text = review_element.find_element(By.CLASS_NAME, '_6rFG6U7PA6M-').text # review text\n",
    "                review_date = review_element.find_element(By.CLASS_NAME, 'iLkEeQbexGs-').text # review date\n",
    "                reviews.append({'review_text': review_text, 'review_date': review_date})\n",
    "                \n",
    "                review_counter += 1\n",
    "                if max_reviews != 0 and review_counter >= max_reviews:\n",
    "                    break\n",
    "\n",
    "            except Exception as e:\n",
    "                print(f\"Error extracting review: {e}\")\n",
    "                continue\n",
    "\n",
    "    except Exception as e:\n",
    "        print(f\"Error during scraping: {e}\")\n",
    "    finally:\n",
    "        if not keep_open:\n",
    "            driver.quit()\n",
    "\n",
    "    return reviews\n",
    "\n",
    "def get_opentable_reviews(output_csv, max_restaurants=30, max_reviews=10):\n",
    "    \"\"\"\n",
    "    retrieves reviews from OpenTable.\n",
    "    :return: A list of reviews, each being: {'review_id', 'restaurant_id', 'restaurant', 'text', 'date'}\n",
    "    \"\"\"\n",
    "    \n",
    "    unique_restaurants_already_scraped = set()\n",
    "    try:\n",
    "        with open(output_csv, mode='r', encoding='utf-8') as file:\n",
    "            reader = csv.DictReader(file)\n",
    "\n",
    "            for row in reader:\n",
    "                restaurant_name = row.get('restaurant_id', '').strip()\n",
    "                unique_restaurants_already_scraped.add(restaurant_name)\n",
    "\n",
    "    except Exception as e:\n",
    "        print(f\"Error reading CSV file: {e}\")\n",
    "        return []\n",
    "    \n",
    "    result = []\n",
    "    \n",
    "    if len(unique_restaurants_already_scraped) >= max_restaurants:\n",
    "        try:\n",
    "            with open(output_csv, mode='r', encoding='utf-8') as file:\n",
    "                reader = csv.DictReader(file)\n",
    "\n",
    "                # Check if 'review_text' column exists\n",
    "                if 'review_text' not in reader.fieldnames:\n",
    "                    print(\"Column 'review_text' not found in the CSV file.\")\n",
    "                    return []\n",
    "\n",
    "                for row in reader:\n",
    "                    review = {\n",
    "                        'review_id': row.get('review_id', '').strip(),\n",
    "                        'restaurant_id': row.get('restaurant_id', '').strip(),\n",
    "                        'restaurant': row.get('restaurant', '').strip(),\n",
    "                        'text': row.get('text', '').strip(),\n",
    "                        'date': row.get('date', '').strip(),\n",
    "                    }\n",
    "                    result.append(review)\n",
    "\n",
    "        except Exception as e:\n",
    "            print(f\"Error reading CSV file: {e}\")\n",
    "            return []\n",
    "\n",
    "        return result\n",
    "\n",
    "    # scrape restaurants\n",
    "    restaurants, driver = scrape_opentable_restaurants(True, max_restaurants)\n",
    "    \n",
    "    # scrape reviews\n",
    "    for n, restaurant in enumerate(restaurants):\n",
    "        if restaurant['restaurant_name'] in unique_restaurants_already_scraped:\n",
    "            continue\n",
    "        reviews = scrape_opentable_reviews(driver, restaurant['restaurant_link'], True if n < len(restaurants) else False, max_reviews)\n",
    "        for review in reviews:\n",
    "            result.append({\n",
    "                'review_id': hash_function(f\"{restaurant['restaurant_name']}{review['review_text']}\"),\n",
    "                'restaurant_id': hash_function(restaurant['restaurant_name']),\n",
    "                'restaurant': restaurant['restaurant_name'],\n",
    "                'text': review['review_text'],\n",
    "                'date': review['review_date']\n",
    "            })\n",
    "\n",
    "    # save the results to a CSV file\n",
    "    with open(output_csv, mode='a', newline='', encoding='utf-8') as file:\n",
    "        writer = csv.DictWriter(file, fieldnames=['review_id', 'restaurant_id', 'restaurant', 'text', 'date'])\n",
    "        if file.tell() == 0:  # Check if the file is empty to write the header\n",
    "            writer.writeheader()\n",
    "        writer.writerows(result)\n",
    "\n",
    "    return result"
   ],
   "id": "922cda24fb977608",
   "outputs": [],
   "execution_count": 4
  },
  {
   "metadata": {},
   "cell_type": "markdown",
   "source": "# Save reviews in a CSV file",
   "id": "54e519b04eb8277c"
  },
  {
   "metadata": {
    "ExecuteTime": {
     "end_time": "2024-12-20T15:26:58.871059Z",
     "start_time": "2024-12-20T15:22:41.093389Z"
    }
   },
   "cell_type": "code",
   "source": [
    "import os\n",
    "import csv\n",
    "\n",
    "get_opentable_reviews(\"opentable_reviews.csv\")\n",
    "get_yelp_reviews(\"yelp_reviews.csv\")"
   ],
   "id": "6402e37148c3a14a",
   "outputs": [
    {
     "ename": "TypeError",
     "evalue": "get_yelp_reviews() missing 1 required positional argument: 'max_reviews'",
     "output_type": "error",
     "traceback": [
      "\u001B[0;31m---------------------------------------------------------------------------\u001B[0m",
      "\u001B[0;31mTypeError\u001B[0m                                 Traceback (most recent call last)",
      "Cell \u001B[0;32mIn[5], line 5\u001B[0m\n\u001B[1;32m      2\u001B[0m \u001B[38;5;28;01mimport\u001B[39;00m \u001B[38;5;21;01mcsv\u001B[39;00m\n\u001B[1;32m      4\u001B[0m get_opentable_reviews(\u001B[38;5;124m\"\u001B[39m\u001B[38;5;124mopentable_reviews.csv\u001B[39m\u001B[38;5;124m\"\u001B[39m)\n\u001B[0;32m----> 5\u001B[0m \u001B[43mget_yelp_reviews\u001B[49m\u001B[43m(\u001B[49m\u001B[38;5;124;43m\"\u001B[39;49m\u001B[38;5;124;43myelp_reviews.csv\u001B[39;49m\u001B[38;5;124;43m\"\u001B[39;49m\u001B[43m)\u001B[49m\n",
      "\u001B[0;31mTypeError\u001B[0m: get_yelp_reviews() missing 1 required positional argument: 'max_reviews'"
     ]
    }
   ],
   "execution_count": 5
  },
  {
   "metadata": {
    "ExecuteTime": {
     "end_time": "2024-12-20T15:26:58.872136Z",
     "start_time": "2024-12-20T15:26:58.872071Z"
    }
   },
   "cell_type": "code",
   "source": [
    "import pandas as pd\n",
    "\n",
    "# Load the CSV files\n",
    "opentable_reviews = pd.read_csv('opentable_reviews.csv')\n",
    "yelp_reviews = pd.read_csv('yelp_reviews.csv')\n",
    "\n",
    "# Combine the two DataFrames\n",
    "reviews = pd.concat([opentable_reviews, yelp_reviews], ignore_index=True)\n",
    "\n",
    "# Save the combined DataFrame to a new CSV file\n",
    "reviews.to_csv('combined_reviews.csv', index=False)\n",
    "reviews"
   ],
   "id": "509c4216f232550f",
   "outputs": [],
   "execution_count": null
  },
  {
   "metadata": {
    "ExecuteTime": {
     "end_time": "2024-12-20T15:26:58.873166Z",
     "start_time": "2024-12-20T15:26:58.872945Z"
    }
   },
   "cell_type": "code",
   "source": "",
   "id": "547474975ca11dfb",
   "outputs": [],
   "execution_count": null
  }
 ],
 "metadata": {
  "kernelspec": {
   "display_name": "Python 3",
   "language": "python",
   "name": "python3"
  },
  "language_info": {
   "codemirror_mode": {
    "name": "ipython",
    "version": 2
   },
   "file_extension": ".py",
   "mimetype": "text/x-python",
   "name": "python",
   "nbconvert_exporter": "python",
   "pygments_lexer": "ipython2",
   "version": "2.7.6"
  }
 },
 "nbformat": 4,
 "nbformat_minor": 5
}
