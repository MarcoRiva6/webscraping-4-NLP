{
 "cells": [
  {
   "cell_type": "markdown",
   "metadata": {
    "id": "7zfEZPAovzed"
   },
   "source": [
    "# Sentiment Analysis of Italian Restaurant Reviews\n",
    "\n",
    "The project aims to analyze customer sentiment towards Italian restaurants in France and Italy. The analysis is based on textual reviews collected from two different data sources: OpenTable and Yelp.\n",
    "\n",
    "By employing sentiment analysis, we aim to uncover trends and compare how Italian cuisine and the general quality of the related businesses are perceived across the two regions."
   ]
  },
  {
   "cell_type": "markdown",
   "metadata": {
    "id": "ccIm_zVvwBO8"
   },
   "source": [
    "## Yelp Fusion API"
   ]
  },
  {
   "cell_type": "code",
   "metadata": {
    "colab": {
     "base_uri": "https://localhost:8080/"
    },
    "id": "iC8r-VuHvgli",
    "outputId": "bd909708-3009-4eda-c803-c0dbd711dc67",
    "ExecuteTime": {
     "end_time": "2024-12-11T14:35:18.272155Z",
     "start_time": "2024-12-11T14:35:16.886384Z"
    }
   },
   "source": [
    "import requests\n",
    "\n",
    "# Set up API credentials\n",
    "API_KEY = \"3lX3EqE4bLsHCwaN8tyZ3kNNg_tykrIiw8cgEDcbNOeGYo9m22YYW5as-1dPp-f0Gy_X8_12CDEiqVgbM0SdKgKE2x94_w4-_PLu8Kfufdj-kBvbYWCGNmUUjyZHZ3Yx\"\n",
    "API_URL = \"https://api.yelp.com/v3/businesses/search\"\n",
    "\n",
    "# Define the search parameters\n",
    "headers = {\"Authorization\": f\"Bearer {API_KEY}\"}\n",
    "params = {\n",
    "    \"term\": \"\",\n",
    "    \"location\": \"Italy\",\n",
    "    \"categories\": \"restaurants\",\n",
    "    \"limit\": 10,  # Number of results to fetch\n",
    "}\n",
    "\n",
    "# Make the request\n",
    "response = requests.get(API_URL, headers=headers, params=params)\n",
    "\n",
    "# Parse the response\n",
    "if response.status_code == 200:\n",
    "    data = response.json()\n",
    "    for business in data.get(\"businesses\", []):\n",
    "        print(f\"Name: {business['name']}\")\n",
    "        print(f\"Rating: {business['rating']}\")\n",
    "        print(f\"Address: {', '.join(business['location']['display_address'])}\")\n",
    "        print(f\"Phone: {business.get('phone', 'N/A')}\")\n",
    "        print(\"-\" * 40)\n",
    "else:\n",
    "    print(f\"Error: {response.status_code} - {response.text}\")\n"
   ],
   "outputs": [
    {
     "name": "stdout",
     "output_type": "stream",
     "text": [
      "Name: 44 Osteria Quarantaquattro\n",
      "Rating: 4.5\n",
      "Address: Via Aureliana 42, 00187 Rome, Italy\n",
      "Phone: +390642013318\n",
      "----------------------------------------\n",
      "Name: Life\n",
      "Rating: 4.3\n",
      "Address: Via della Vite 28, 00187 Rome, Italy\n",
      "Phone: +390669380948\n",
      "----------------------------------------\n",
      "Name: Ai Tre Scalini\n",
      "Rating: 4.4\n",
      "Address: Via Panisperna 251, 00184 Rome, Italy\n",
      "Phone: +390648907495\n",
      "----------------------------------------\n",
      "Name: Roscioli\n",
      "Rating: 4.3\n",
      "Address: Via dei Giubbonari 21, 00186 Rome, Italy\n",
      "Phone: +39066875287\n",
      "----------------------------------------\n",
      "Name: Cantina e Cucina\n",
      "Rating: 4.5\n",
      "Address: Via del Governo Vecchio 87, 00186 Rome, Italy\n",
      "Phone: +39066892574\n",
      "----------------------------------------\n",
      "Name: Il Chianti\n",
      "Rating: 4.3\n",
      "Address: Via del Lavatore 81, 00187 Rome, Italy\n",
      "Phone: +39066787550\n",
      "----------------------------------------\n",
      "Name: Hostaria La Botticella\n",
      "Rating: 4.5\n",
      "Address: Vicolo del Leopardo 39A, 00153 Rome, Italy\n",
      "Phone: +39065814738\n",
      "----------------------------------------\n",
      "Name: That's Amore\n",
      "Rating: 4.2\n",
      "Address: Via in Arcione 115, 00187 Rome, Italy\n",
      "Phone: +39066790302\n",
      "----------------------------------------\n",
      "Name: La Tavernetta 48\n",
      "Rating: 4.4\n",
      "Address: Via degli Spagnoli 48, 00186 Rome, Italy\n",
      "Phone: +390668192591\n",
      "----------------------------------------\n",
      "Name: Osteria Barberini\n",
      "Rating: 4.5\n",
      "Address: Via della Purificazione 21, 00187 Rome, Italy\n",
      "Phone: +39064743325\n",
      "----------------------------------------\n"
     ]
    }
   ],
   "execution_count": 1
  },
  {
   "cell_type": "markdown",
   "metadata": {
    "id": "RqUqV0fCwFmF"
   },
   "source": [
    "## OpenTable"
   ]
  },
  {
   "cell_type": "code",
   "metadata": {
    "id": "i2hpITEV1eAp",
    "ExecuteTime": {
     "end_time": "2024-12-11T14:35:19.020416Z",
     "start_time": "2024-12-11T14:35:18.275342Z"
    }
   },
   "source": [
    "%pip install selenium --quiet"
   ],
   "outputs": [
    {
     "name": "stdout",
     "output_type": "stream",
     "text": [
      "Note: you may need to restart the kernel to use updated packages.\n"
     ]
    }
   ],
   "execution_count": 2
  },
  {
   "cell_type": "code",
   "metadata": {
    "id": "7QmkdPh2wKYy",
    "ExecuteTime": {
     "end_time": "2024-12-11T15:32:25.011100Z",
     "start_time": "2024-12-11T15:32:24.999799Z"
    }
   },
   "source": [
    "from selenium import webdriver\n",
    "from selenium.webdriver.common.by import By\n",
    "import time\n",
    "\n",
    "def scroll_down_page(driver, speed=8):\n",
    "    current_scroll_position, new_height= 0, 1\n",
    "    while current_scroll_position <= new_height:\n",
    "        current_scroll_position += speed\n",
    "        driver.execute_script(\"window.scrollTo(0, {});\".format(current_scroll_position))\n",
    "        new_height = driver.execute_script(\"return document.body.scrollHeight\")\n",
    "\n",
    "def scrape_opentable_restaurants(max_restaurants=10):\n",
    "    \n",
    "    # queries OpenTable restaurants in 'Paris' under 'Italian' cousine category, ordered by rating\n",
    "    url = \"https://www.opentable.com/s?term=paris&cuisineIds%5B%5D=48e9d049-40cf-4cb9-98d9-8c47d0d58986&sortBy=rating\"\n",
    "    \n",
    "    driver = webdriver.Chrome()\n",
    "    driver.get(url)\n",
    "    time.sleep(3)\n",
    "    scroll_down_page(driver)\n",
    "    time.sleep(3)\n",
    "\n",
    "    restaurants = []\n",
    "\n",
    "    try:\n",
    "        # Extract review elements\n",
    "        restaurant_elements = driver.find_elements(By.CLASS_NAME, 'qCITanV81-Y-')\n",
    "\n",
    "        for restaurant_element in restaurant_elements:\n",
    "            try:\n",
    "                restaurant_name = restaurant_element.text # name\n",
    "                restaurant_link = restaurant_element.get_attribute('href') # link\n",
    "                restaurant_link = restaurant_link[:-122] # removed parameters\n",
    "                restaurants.append({'restaurant_name': restaurant_name, 'restaurant_link': restaurant_link})\n",
    "\n",
    "            except Exception as e:\n",
    "                print(f\"Error extracting restaurants: {e}\")\n",
    "                continue\n",
    "\n",
    "    except Exception as e:\n",
    "        print(f\"Error during scraping: {e}\")\n",
    "    finally:\n",
    "        driver.quit()\n",
    "\n",
    "    return restaurants\n",
    "\n",
    "def scrape_opentable_reviews(url, max_reviews=10):\n",
    "    \"\"\"\n",
    "    Scrapes reviews from an OpenTable restaurant page.\n",
    "\n",
    "    Args:\n",
    "    - url (str): The URL of the restaurant's OpenTable page.\n",
    "    - max_reviews (int): The maximum number of reviews to scrape.\n",
    "\n",
    "    Returns:\n",
    "    - list of dict: A list of reviews with the review text and date.\n",
    "    \"\"\"\n",
    "    # Initialize WebDriver\n",
    "    driver = webdriver.Chrome()\n",
    "    driver.get(url)\n",
    "    time.sleep(5)\n",
    "\n",
    "    reviews = []\n",
    "\n",
    "    try:\n",
    "        while len(reviews) < max_reviews:\n",
    "            # Extract review elements\n",
    "            review_elements = driver.find_elements(By.CLASS_NAME, 'afkKaa-4T28-')\n",
    "\n",
    "            for review_element in review_elements:\n",
    "                try:\n",
    "                    review_text = review_element.find_element(By.CLASS_NAME, '_6rFG6U7PA6M-').text\n",
    "                    review_date = review_element.find_element(By.CLASS_NAME, 'iLkEeQbexGs-').text\n",
    "                    reviews.append({'review_text': review_text, 'review_date': review_date})\n",
    "\n",
    "                    # Stop if we reach the maximum reviews\n",
    "                    if len(reviews) >= max_reviews:\n",
    "                        break\n",
    "                except Exception as e:\n",
    "                    print(f\"Error extracting review: {e}\")\n",
    "                    continue\n",
    "\n",
    "            # Attempt to click \"Load More Reviews\" if it exists\n",
    "            try: # TODO: fix\n",
    "                load_more_button = driver.find_element(By.CLASS_NAME, 'TkpxbcBbu80-')\n",
    "                load_more_button.click()\n",
    "                time.sleep(3)  # Wait for reviews to load\n",
    "            except:\n",
    "                break\n",
    "\n",
    "    except Exception as e:\n",
    "        print(f\"Error during scraping: {e}\")\n",
    "    finally:\n",
    "        driver.quit()\n",
    "\n",
    "    return reviews"
   ],
   "outputs": [],
   "execution_count": 29
  },
  {
   "cell_type": "code",
   "metadata": {
    "colab": {
     "base_uri": "https://localhost:8080/",
     "height": 718
    },
    "id": "S9wOoYrc1YkN",
    "outputId": "98cd6a4e-75cb-4139-a5d9-99a1a2e4119b",
    "ExecuteTime": {
     "end_time": "2024-12-11T15:36:26.284404Z",
     "start_time": "2024-12-11T15:32:25.125822Z"
    }
   },
   "source": [
    "restaurants = scrape_opentable_restaurants()\n",
    "\n",
    "print(\"restaurants count: \" + str(len(restaurants)))\n",
    "\n",
    "for restaurant in restaurants:\n",
    "    print(f\"Restaurant: {restaurant['restaurant_name']}\")\n",
    "    reviews = scrape_opentable_reviews(restaurant['restaurant_link'], max_reviews=15)\n",
    "    \n",
    "    print(\"count: \" + str(len(reviews)))\n",
    "\n",
    "    #for idx, review in enumerate(reviews, 1):\n",
    "    #  print(f\"Review {idx}:\")\n",
    "    #  print(f\"Date: {review['review_date']}\")\n",
    "    #  print(f\"Text: {review['review_text']}\\n\")"
   ],
   "outputs": [
    {
     "name": "stdout",
     "output_type": "stream",
     "text": [
      "restaurants count: 30\n",
      "Restaurant: Truffes Folies Paris 7\n",
      "count: 10\n",
      "Restaurant: Epoca Restaurant\n",
      "count: 4\n",
      "Restaurant: Penati al Baretto\n",
      "NEW\n",
      "count: 1\n",
      "Restaurant: TCHELLO\n",
      "count: 3\n",
      "Restaurant: Restaurant Zo\n",
      "count: 4\n",
      "Restaurant: SEB Cafe\n",
      "count: 3\n",
      "Restaurant: Bistro L'Olivier\n",
      "count: 10\n",
      "Restaurant: Senza nome\n",
      "count: 4\n",
      "Restaurant: PEPEGUSTO\n",
      "count: 2\n",
      "Restaurant: Mamamia\n",
      "count: 10\n",
      "Restaurant: SOGNO PARIS\n",
      "count: 10\n",
      "Restaurant: Valentina\n",
      "count: 2\n",
      "Restaurant: Liberta\n",
      "count: 0\n",
      "Restaurant: Restaurant Conti\n",
      "count: 0\n",
      "Restaurant: Emporio Armani Caffè\n",
      "count: 0\n",
      "Restaurant: Maddy\n",
      "count: 4\n",
      "Restaurant: Baretto\n",
      "count: 10\n",
      "Restaurant: da Alfredo\n",
      "count: 10\n",
      "Restaurant: Giulia\n",
      "count: 0\n",
      "Restaurant: Bistrot Kani\n",
      "count: 10\n",
      "Restaurant: L’Attilio Paris\n",
      "count: 2\n",
      "Restaurant: Limone\n",
      "count: 0\n",
      "Restaurant: Lombardi\n",
      "count: 4\n",
      "Restaurant: Liberto\n",
      "count: 2\n",
      "Restaurant: Pepita Paris\n",
      "NEW\n",
      "count: 0\n",
      "Restaurant: Mori Venice Bar\n",
      "NEW\n",
      "count: 0\n",
      "Restaurant: Giusé Trattoria\n",
      "count: 7\n",
      "Restaurant: Armani Ristorante\n",
      "count: 0\n",
      "Restaurant: Laïa\n",
      "count: 3\n",
      "Restaurant: Riviera Fuga\n",
      "count: 5\n"
     ]
    }
   ],
   "execution_count": 30
  },
  {
   "metadata": {},
   "cell_type": "code",
   "outputs": [],
   "execution_count": null,
   "source": ""
  }
 ],
 "metadata": {
  "colab": {
   "provenance": []
  },
  "kernelspec": {
   "display_name": "Python 3 (ipykernel)",
   "name": "python3",
   "language": "python"
  },
  "language_info": {
   "codemirror_mode": {
    "name": "ipython",
    "version": 3
   },
   "file_extension": ".py",
   "mimetype": "text/x-python",
   "name": "python",
   "nbconvert_exporter": "python",
   "pygments_lexer": "ipython3",
   "version": "3.12.7"
  }
 },
 "nbformat": 4,
 "nbformat_minor": 0
}
