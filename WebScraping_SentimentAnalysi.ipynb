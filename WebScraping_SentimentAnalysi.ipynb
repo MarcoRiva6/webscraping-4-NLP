{
 "cells": [
  {
   "cell_type": "markdown",
   "metadata": {
    "id": "7zfEZPAovzed"
   },
   "source": [
    "# Sentiment Analysis of Italian Restaurant Reviews\n",
    "\n",
    "The project aims to analyze customer sentiment towards Italian restaurants in France and Italy. The analysis is based on textual reviews collected from two different data sources: OpenTable and Yelp.\n",
    "\n",
    "By employing sentiment analysis, we aim to uncover trends and compare how Italian cuisine and the general quality of the related businesses are perceived across the two regions."
   ]
  },
  {
   "cell_type": "markdown",
   "metadata": {
    "id": "ccIm_zVvwBO8"
   },
   "source": [
    "## Yelp Fusion API"
   ]
  },
  {
   "cell_type": "code",
   "execution_count": null,
   "metadata": {
    "colab": {
     "base_uri": "https://localhost:8080/"
    },
    "id": "iC8r-VuHvgli",
    "outputId": "bd909708-3009-4eda-c803-c0dbd711dc67"
   },
   "outputs": [
    {
     "name": "stdout",
     "output_type": "stream",
     "text": [
      "Name: 44 Osteria Quarantaquattro\n",
      "Rating: 4.5\n",
      "Address: Via Aureliana 42, 00187 Rome, Italy\n",
      "Phone: +390642013318\n",
      "----------------------------------------\n",
      "Name: Roscioli\n",
      "Rating: 4.3\n",
      "Address: Via dei Giubbonari 21, 00186 Rome, Italy\n",
      "Phone: +39066875287\n",
      "----------------------------------------\n",
      "Name: Cantina e Cucina\n",
      "Rating: 4.5\n",
      "Address: Via del Governo Vecchio 87, 00186 Rome, Italy\n",
      "Phone: +39066892574\n",
      "----------------------------------------\n",
      "Name: Hostaria La Botticella\n",
      "Rating: 4.5\n",
      "Address: Vicolo del Leopardo 39A, 00153 Rome, Italy\n",
      "Phone: +39065814738\n",
      "----------------------------------------\n",
      "Name: Il Chianti\n",
      "Rating: 4.3\n",
      "Address: Via del Lavatore 81, 00187 Rome, Italy\n",
      "Phone: +39066787550\n",
      "----------------------------------------\n",
      "Name: Ai Tre Scalini\n",
      "Rating: 4.4\n",
      "Address: Via Panisperna 251, 00184 Rome, Italy\n",
      "Phone: +390648907495\n",
      "----------------------------------------\n",
      "Name: La Tavernetta 48\n",
      "Rating: 4.4\n",
      "Address: Via degli Spagnoli 48, 00186 Rome, Italy\n",
      "Phone: +390668192591\n",
      "----------------------------------------\n",
      "Name: Piccolo Arancio\n",
      "Rating: 4.4\n",
      "Address: Vicolo Scanderbeg 112, 00187 Rome, Italy\n",
      "Phone: +39066786139\n",
      "----------------------------------------\n",
      "Name: Life\n",
      "Rating: 4.3\n",
      "Address: Via della Vite 28, 00187 Rome, Italy\n",
      "Phone: +390669380948\n",
      "----------------------------------------\n",
      "Name: Osteria Barberini\n",
      "Rating: 4.5\n",
      "Address: Via della Purificazione 21, 00187 Rome, Italy\n",
      "Phone: +39064743325\n",
      "----------------------------------------\n"
     ]
    }
   ],
   "source": [
    "import requests\n",
    "\n",
    "# Set up API credentials\n",
    "API_KEY = \"YELP_FUSION_API_KEY\"\n",
    "API_URL = \"https://api.yelp.com/v3/businesses/search\"\n",
    "\n",
    "# Define the search parameters\n",
    "headers = {\"Authorization\": f\"Bearer {API_KEY}\"}\n",
    "params = {\n",
    "    \"term\": \"\",\n",
    "    \"location\": \"Italy\",\n",
    "    \"categories\": \"restaurants\",\n",
    "    \"limit\": 10,  # Number of results to fetch\n",
    "}\n",
    "\n",
    "# Make the request\n",
    "response = requests.get(API_URL, headers=headers, params=params)\n",
    "\n",
    "# Parse the response\n",
    "if response.status_code == 200:\n",
    "    data = response.json()\n",
    "    for business in data.get(\"businesses\", []):\n",
    "        print(f\"Name: {business['name']}\")\n",
    "        print(f\"Rating: {business['rating']}\")\n",
    "        print(f\"Address: {', '.join(business['location']['display_address'])}\")\n",
    "        print(f\"Phone: {business.get('phone', 'N/A')}\")\n",
    "        print(\"-\" * 40)\n",
    "else:\n",
    "    print(f\"Error: {response.status_code} - {response.text}\")\n"
   ]
  },
  {
   "cell_type": "markdown",
   "metadata": {
    "id": "RqUqV0fCwFmF"
   },
   "source": [
    "## OpenTable"
   ]
  },
  {
   "cell_type": "code",
   "execution_count": 2,
   "metadata": {
    "id": "i2hpITEV1eAp"
   },
   "outputs": [
    {
     "name": "stdout",
     "output_type": "stream",
     "text": [
      "Note: you may need to restart the kernel to use updated packages.\n"
     ]
    },
    {
     "name": "stderr",
     "output_type": "stream",
     "text": [
      "\n",
      "[notice] A new release of pip is available: 24.2 -> 24.3.1\n",
      "[notice] To update, run: python.exe -m pip install --upgrade pip\n"
     ]
    }
   ],
   "source": [
    "%pip install selenium --quiet"
   ]
  },
  {
   "cell_type": "code",
   "execution_count": 10,
   "metadata": {
    "id": "7QmkdPh2wKYy"
   },
   "outputs": [],
   "source": [
    "from selenium import webdriver\n",
    "from selenium.webdriver.common.by import By\n",
    "import time\n",
    "\n",
    "\n",
    "def scrape_opentable_reviews(url, max_reviews=10):\n",
    "    \"\"\"\n",
    "    Scrapes reviews from an OpenTable restaurant page.\n",
    "\n",
    "    Args:\n",
    "    - url (str): The URL of the restaurant's OpenTable page.\n",
    "    - max_reviews (int): The maximum number of reviews to scrape.\n",
    "\n",
    "    Returns:\n",
    "    - list of dict: A list of reviews with the review text and date.\n",
    "    \"\"\"\n",
    "    # Initialize WebDriver\n",
    "    driver = webdriver.Chrome()\n",
    "    driver.get(url)\n",
    "    time.sleep(5)\n",
    "\n",
    "    reviews = []\n",
    "\n",
    "    try:\n",
    "        while len(reviews) < max_reviews:\n",
    "            # Extract review elements\n",
    "            review_elements = driver.find_elements(By.CLASS_NAME, 'afkKaa-4T28-')\n",
    "\n",
    "            for review_element in review_elements:\n",
    "                try:\n",
    "                    review_text = review_element.find_element(By.CLASS_NAME, '_6rFG6U7PA6M-').text\n",
    "                    review_date = review_element.find_element(By.CLASS_NAME, 'iLkEeQbexGs-').text\n",
    "                    reviews.append({'review_text': review_text, 'review_date': review_date})\n",
    "\n",
    "                    # Stop if we reach the maximum reviews\n",
    "                    if len(reviews) >= max_reviews:\n",
    "                        break\n",
    "                except Exception as e:\n",
    "                    print(f\"Error extracting review: {e}\")\n",
    "                    continue\n",
    "\n",
    "            # Attempt to click \"Load More Reviews\" if it exists\n",
    "            try:\n",
    "                load_more_button = driver.find_element(By.CSS_SELECTOR, '.ot-load-more-reviews')\n",
    "                load_more_button.click()\n",
    "                time.sleep(3)  # Wait for reviews to load\n",
    "            except:\n",
    "                print(\"No more reviews to load.\")\n",
    "                break\n",
    "\n",
    "    except Exception as e:\n",
    "        print(f\"Error during scraping: {e}\")\n",
    "    finally:\n",
    "        driver.quit()\n",
    "\n",
    "    return reviews"
   ]
  },
  {
   "cell_type": "code",
   "execution_count": 11,
   "metadata": {
    "colab": {
     "base_uri": "https://localhost:8080/",
     "height": 718
    },
    "id": "S9wOoYrc1YkN",
    "outputId": "98cd6a4e-75cb-4139-a5d9-99a1a2e4119b"
   },
   "outputs": [
    {
     "name": "stdout",
     "output_type": "stream",
     "text": [
      "No more reviews to load.\n",
      "Review 1:\n",
      "Date: Dined 6 days ago\n",
      "Text: Excellente soirée au sacré Frenchy ! Nous avons pu déguster des spécialités françaises. Service très agréable et des cocktails excellents.\n",
      "Je reviendrai avec plaisir 🙃\n",
      "\n",
      "Review 2:\n",
      "Date: Dined on November 29, 2024\n",
      "Text: We had a lovely meal, felt very at ease as all staff spoke very good English, the food was lovely, the drinks were great, all round a great place to visit x\n",
      "\n",
      "Review 3:\n",
      "Date: Dined on November 28, 2024\n",
      "Text: Sacré Frenchy was a great place to go to for our American family of four with twin 16 year old daughters. Everyone enjoyed their meals and the staff was really accommodating considering we can’t speak French. Our girls can sometimes be picky eaters when we travel abroad and this was a really good experience as we were all able to find something to eat without having to sacrifice a good dining experience for my wife and I.\n",
      "Read more\n",
      "\n",
      "Review 4:\n",
      "Date: Dined on November 26, 2024\n",
      "Text: The duck is delicious!!! Authentic French. Must visit if you wanna try authentic French cuisine. Ask for Arthur, he is the best.\n",
      "\n",
      "Review 5:\n",
      "Date: Dined on November 25, 2024\n",
      "Text: Excellent food and ambiance. Friendly, meticulous service in a relaxed atmosphere.\n",
      "Vegetarian dishes and 7 hour lamb simple and perfectly cooked. Mille-feuille dessert\n",
      "is yummy!\n",
      "\n",
      "Review 6:\n",
      "Date: Dined on November 12, 2024\n",
      "Text: Friendly and attentive service! food was spot on too!\n",
      "\n",
      "Review 7:\n",
      "Date: Dined on November 12, 2024\n",
      "Text: Best French Onion Soup ever!  Everything else was average at best.\n",
      "\n",
      "Review 8:\n",
      "Date: Dined on November 10, 2024\n",
      "Text: Fantastic food and service, would highly recommend.\n",
      "\n",
      "Review 9:\n",
      "Date: Dined on November 9, 2024\n",
      "Text: We had a table of 12 on a Saturday afternoon. The service was efficient and super friendly and the food was fabulous. Four people had the rib eye which was amazing, served on a large platter with 3 sauces, frites and salad. The beef bourginon (can’t spell it!) was super tasty and the vegetarians were catered for too. I would definitely recommend this bistro which is also close to line 4 on the metro to head straight back to Gare du Nord.\n",
      "Read more\n",
      "\n",
      "Review 10:\n",
      "Date: Dined on November 8, 2024\n",
      "Text: NOT « SACRE FRENCHY » at all .\n",
      "La nourriture avec des produits de mauvaise qualité et sans goût. Le fameux agneau de 7 heures était une mauvaise copie des « carnitas effilochées » mexicaines. Les escargots, une honte!\n",
      "\n"
     ]
    }
   ],
   "source": [
    "opentable_url = (\"https://www.opentable.com/r/sacre-frenchy-paris?corrid=400c4ade-c1da-4fb9-88a7-a165c57bab08&avt\"\n",
    "                \"=eyJ2IjoyLCJtIjoxLCJwIjowLCJzIjowLCJuIjowfQ&p=2&sd=2024-11-22T19%3A00%3A00\")\n",
    "scraped_reviews = scrape_opentable_reviews(opentable_url, max_reviews=20)\n",
    "\n",
    "for idx, review in enumerate(scraped_reviews, 1):\n",
    "  print(f\"Review {idx}:\")\n",
    "  print(f\"Date: {review['review_date']}\")\n",
    "  print(f\"Text: {review['review_text']}\\n\")"
   ]
  }
 ],
 "metadata": {
  "colab": {
   "provenance": []
  },
  "kernelspec": {
   "display_name": "Python 3",
   "name": "python3"
  },
  "language_info": {
   "codemirror_mode": {
    "name": "ipython",
    "version": 3
   },
   "file_extension": ".py",
   "mimetype": "text/x-python",
   "name": "python",
   "nbconvert_exporter": "python",
   "pygments_lexer": "ipython3",
   "version": "3.12.7"
  }
 },
 "nbformat": 4,
 "nbformat_minor": 0
}
