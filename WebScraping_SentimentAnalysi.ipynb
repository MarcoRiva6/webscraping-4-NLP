{
 "cells": [
  {
   "cell_type": "markdown",
   "metadata": {
    "id": "7zfEZPAovzed"
   },
   "source": [
    "# Sentiment Analysis of Italian Restaurant Reviews\n",
    "\n",
    "The project aims to analyze customer sentiment towards Italian restaurants in France and Italy. The analysis is based on textual reviews collected from two different data sources: OpenTable and Yelp.\n",
    "\n",
    "By employing sentiment analysis, we aim to uncover trends and compare how Italian cuisine and the general quality of the related businesses are perceived across the two regions."
   ]
  },
  {
   "cell_type": "markdown",
   "metadata": {
    "id": "ccIm_zVvwBO8"
   },
   "source": [
    "## Yelp Fusion API"
   ]
  },
  {
   "cell_type": "code",
   "execution_count": null,
   "metadata": {
    "ExecuteTime": {
     "end_time": "2024-12-11T14:35:18.272155Z",
     "start_time": "2024-12-11T14:35:16.886384Z"
    },
    "colab": {
     "base_uri": "https://localhost:8080/"
    },
    "id": "iC8r-VuHvgli",
    "outputId": "bd909708-3009-4eda-c803-c0dbd711dc67"
   },
   "outputs": [
    {
     "name": "stdout",
     "output_type": "stream",
     "text": [
      "Error: 429 - {\"error\": {\"code\": \"ACCESS_LIMIT_REACHED\", \"description\": \"You've reached the access limit for this client. See instructions for requesting a higher access limit at https://docs.developer.yelp.com/docs/fusion-rate-limiting\"}}\n"
     ]
    }
   ],
   "source": [
    "import requests\n",
    "\n",
    "MAX_RESTAURANTS = 30\n",
    "API_KEY = \"3lX3EqE4bLsHCwaN8tyZ3kNNg_tykrIiw8cgEDcbNOeGYo9m22YYW5as-1dPp-f0Gy_X8_12CDEiqVgbM0SdKgKE2x94_w4-_PLu8Kfufdj-kBvbYWCGNmUUjyZHZ3Yx\"\n",
    "BASE_URL = \"https://api.yelp.com/v3/businesses/\"\n",
    "API_URL = f\"{BASE_URL}search?sort_by=rating&limit={MAX_RESTAURANTS}\"\n",
    "\n",
    "# Define the search parameters\n",
    "headers = {\"Authorization\": f\"Bearer {API_KEY}\"}\n",
    "params = {\n",
    "    \"term\": \"\",\n",
    "    \"location\": \"Rome, Italy\",\n",
    "    \"categories\": \"restaurants\",\n",
    "}\n",
    "\n",
    "# Make the request\n",
    "response = requests.get(API_URL, headers=headers, params=params)\n",
    "\n",
    "# Parse the response\n",
    "if response.status_code == 200:\n",
    "    data = response.json()\n",
    "    for business in data.get(\"businesses\"):\n",
    "        print(f\"Name: {business['name']}\")\n",
    "        print(f\"Rating: {business['rating']}\")\n",
    "        # print(f\"Address: {', '.join(business['location']['display_address'])}\")\n",
    "        # print(f\"Phone: {business.get('phone', 'N/A')}\")\n",
    "        url = BASE_URL + business['id']\n",
    "        response_business = requests.get(url, headers=headers)\n",
    "        if response_business.status_code == 200:\n",
    "            data_business = response_business.json()\n",
    "            review_count = data_business.get('review_count')\n",
    "            print(f\"Review count: {review_count}\")\n",
    "        print(\"-\" * 40)\n",
    "else:\n",
    "    print(f\"Error: {response.status_code} - {response.text}\")\n"
   ]
  },
  {
   "cell_type": "markdown",
   "metadata": {
    "id": "RqUqV0fCwFmF"
   },
   "source": [
    "## OpenTable"
   ]
  },
  {
   "cell_type": "code",
   "execution_count": null,
   "metadata": {
    "ExecuteTime": {
     "end_time": "2024-12-11T14:35:19.020416Z",
     "start_time": "2024-12-11T14:35:18.275342Z"
    },
    "id": "i2hpITEV1eAp"
   },
   "outputs": [
    {
     "name": "stdout",
     "output_type": "stream",
     "text": [
      "Note: you may need to restart the kernel to use updated packages.\n"
     ]
    },
    {
     "name": "stderr",
     "output_type": "stream",
     "text": [
      "\n",
      "[notice] A new release of pip is available: 24.2 -> 24.3.1\n",
      "[notice] To update, run: python.exe -m pip install --upgrade pip\n"
     ]
    }
   ],
   "source": [
    "%pip install selenium --quiet"
   ]
  },
  {
   "cell_type": "code",
   "execution_count": null,
   "metadata": {
    "ExecuteTime": {
     "end_time": "2024-12-11T15:32:25.011100Z",
     "start_time": "2024-12-11T15:32:24.999799Z"
    },
    "id": "7QmkdPh2wKYy"
   },
   "outputs": [],
   "source": [
    "from selenium import webdriver\n",
    "from selenium.webdriver.common.by import By\n",
    "import time\n",
    "\n",
    "def scroll_down_page(driver, speed=8):\n",
    "    current_scroll_position, new_height= 0, 1\n",
    "    while current_scroll_position <= new_height:\n",
    "        current_scroll_position += speed\n",
    "        driver.execute_script(\"window.scrollTo(0, {});\".format(current_scroll_position))\n",
    "        new_height = driver.execute_script(\"return document.body.scrollHeight\")\n",
    "\n",
    "def scrape_opentable_restaurants(max_restaurants=10):\n",
    "    \n",
    "    # queries OpenTable restaurants in 'Paris' under 'Italian' cousine category, ordered by rating\n",
    "    url = \"https://www.opentable.com/s?term=paris&cuisineIds%5B%5D=48e9d049-40cf-4cb9-98d9-8c47d0d58986&sortBy=rating\"\n",
    "    \n",
    "    driver = webdriver.Chrome()\n",
    "    driver.get(url)\n",
    "    time.sleep(3)\n",
    "    scroll_down_page(driver)\n",
    "    time.sleep(3)\n",
    "\n",
    "    restaurants = []\n",
    "\n",
    "    try:\n",
    "        # Extract review elements\n",
    "        restaurant_elements = driver.find_elements(By.CLASS_NAME, 'qCITanV81-Y-')\n",
    "\n",
    "        for restaurant_element in restaurant_elements:\n",
    "            try:\n",
    "                restaurant_name = restaurant_element.text # name\n",
    "                restaurant_link = restaurant_element.get_attribute('href') # link\n",
    "                restaurant_link = restaurant_link[:-122] # removed parameters\n",
    "                restaurants.append({'restaurant_name': restaurant_name, 'restaurant_link': restaurant_link})\n",
    "\n",
    "            except Exception as e:\n",
    "                print(f\"Error extracting restaurants: {e}\")\n",
    "                continue\n",
    "\n",
    "    except Exception as e:\n",
    "        print(f\"Error during scraping: {e}\")\n",
    "    finally:\n",
    "        driver.quit()\n",
    "\n",
    "    return restaurants\n",
    "\n",
    "def scrape_opentable_reviews(url, max_reviews=10):\n",
    "    \"\"\"\n",
    "    Scrapes reviews from an OpenTable restaurant page.\n",
    "\n",
    "    Args:\n",
    "    - url (str): The URL of the restaurant's OpenTable page.\n",
    "    - max_reviews (int): The maximum number of reviews to scrape.\n",
    "\n",
    "    Returns:\n",
    "    - list of dict: A list of reviews with the review text and date.\n",
    "    \"\"\"\n",
    "    # Initialize WebDriver\n",
    "    driver = webdriver.Chrome()\n",
    "    driver.get(url)\n",
    "    time.sleep(5)\n",
    "\n",
    "    reviews = []\n",
    "\n",
    "    try:\n",
    "        while len(reviews) < max_reviews:\n",
    "            # Extract review elements\n",
    "            review_elements = driver.find_elements(By.CLASS_NAME, 'afkKaa-4T28-')\n",
    "\n",
    "            for review_element in review_elements:\n",
    "                try:\n",
    "                    review_text = review_element.find_element(By.CLASS_NAME, '_6rFG6U7PA6M-').text\n",
    "                    review_date = review_element.find_element(By.CLASS_NAME, 'iLkEeQbexGs-').text\n",
    "                    reviews.append({'review_text': review_text, 'review_date': review_date})\n",
    "\n",
    "                    # Stop if we reach the maximum reviews\n",
    "                    if len(reviews) >= max_reviews:\n",
    "                        break\n",
    "                except Exception as e:\n",
    "                    print(f\"Error extracting review: {e}\")\n",
    "                    continue\n",
    "\n",
    "            # Attempt to click \"Load More Reviews\" if it exists\n",
    "            try: # TODO: fix\n",
    "                load_more_button = driver.find_element(By.CLASS_NAME, 'TkpxbcBbu80-')\n",
    "                load_more_button.click()\n",
    "                time.sleep(3)  # Wait for reviews to load\n",
    "            except:\n",
    "                break\n",
    "\n",
    "    except Exception as e:\n",
    "        print(f\"Error during scraping: {e}\")\n",
    "    finally:\n",
    "        driver.quit()\n",
    "\n",
    "    return reviews"
   ]
  },
  {
   "cell_type": "code",
   "execution_count": null,
   "metadata": {
    "ExecuteTime": {
     "end_time": "2024-12-11T15:36:26.284404Z",
     "start_time": "2024-12-11T15:32:25.125822Z"
    },
    "colab": {
     "base_uri": "https://localhost:8080/",
     "height": 718
    },
    "id": "S9wOoYrc1YkN",
    "outputId": "98cd6a4e-75cb-4139-a5d9-99a1a2e4119b"
   },
   "outputs": [
    {
     "name": "stdout",
     "output_type": "stream",
     "text": [
      "restaurants count: 30\n",
      "Restaurant: Restaurant Zo\n",
      "count: 4\n",
      "Restaurant: Epoca Restaurant\n",
      "count: 4\n",
      "Restaurant: Truffes Folies Paris 7\n",
      "count: 10\n",
      "Restaurant: Penati al Baretto\n",
      "NEW\n",
      "count: 1\n",
      "Restaurant: TCHELLO\n",
      "count: 3\n",
      "Restaurant: SEB Cafe\n",
      "count: 3\n",
      "Restaurant: Bistro L'Olivier\n",
      "count: 10\n",
      "Restaurant: Senza nome\n",
      "count: 4\n",
      "Restaurant: PEPEGUSTO\n",
      "count: 2\n",
      "Restaurant: Mamamia\n",
      "count: 10\n",
      "Restaurant: SOGNO PARIS\n",
      "count: 10\n",
      "Restaurant: Valentina\n",
      "count: 2\n",
      "Restaurant: Liberta\n",
      "count: 0\n",
      "Restaurant: Restaurant Conti\n",
      "count: 0\n",
      "Restaurant: Emporio Armani Caffè\n",
      "count: 0\n",
      "Restaurant: Maddy\n",
      "count: 4\n",
      "Restaurant: Baretto\n",
      "count: 10\n",
      "Restaurant: da Alfredo\n",
      "count: 10\n",
      "Restaurant: Giulia\n",
      "count: 0\n",
      "Restaurant: Bistrot Kani\n",
      "count: 10\n",
      "Restaurant: L’Attilio Paris\n",
      "count: 2\n",
      "Restaurant: Limone\n",
      "count: 0\n",
      "Restaurant: Lombardi\n",
      "count: 4\n",
      "Restaurant: Liberto\n",
      "count: 2\n",
      "Restaurant: Pepita Paris\n",
      "NEW\n",
      "count: 0\n",
      "Restaurant: Mori Venice Bar\n",
      "NEW\n",
      "count: 0\n",
      "Restaurant: Giusé Trattoria\n",
      "count: 7\n",
      "Restaurant: Armani Ristorante\n",
      "count: 0\n",
      "Restaurant: Laïa\n",
      "count: 3\n",
      "Restaurant: Riviera Fuga\n",
      "count: 5\n"
     ]
    }
   ],
   "source": [
    "restaurants = scrape_opentable_restaurants()\n",
    "\n",
    "print(\"restaurants count: \" + str(len(restaurants)))\n",
    "\n",
    "for restaurant in restaurants:\n",
    "    print(f\"Restaurant: {restaurant['restaurant_name']}\")\n",
    "    reviews = scrape_opentable_reviews(restaurant['restaurant_link'], max_reviews=15)\n",
    "    \n",
    "    print(\"count: \" + str(len(reviews)))\n",
    "\n",
    "    #for idx, review in enumerate(reviews, 1):\n",
    "    #  print(f\"Review {idx}:\")\n",
    "    #  print(f\"Date: {review['review_date']}\")\n",
    "    #  print(f\"Text: {review['review_text']}\\n\")"
   ]
  }
 ],
 "metadata": {
  "colab": {
   "provenance": []
  },
  "kernelspec": {
   "display_name": "Python 3",
   "language": "python",
   "name": "python3"
  },
  "language_info": {
   "codemirror_mode": {
    "name": "ipython",
    "version": 3
   },
   "file_extension": ".py",
   "mimetype": "text/x-python",
   "name": "python",
   "nbconvert_exporter": "python",
   "pygments_lexer": "ipython3",
   "version": "3.12.7"
  }
 },
 "nbformat": 4,
 "nbformat_minor": 0
}
