{
 "cells": [
  {
   "cell_type": "markdown",
   "metadata": {
    "id": "7zfEZPAovzed"
   },
   "source": [
    "# Sentiment Analysis of Italian Restaurant Reviews\n",
    "\n",
    "The project aims to analyze customer sentiment towards Italian restaurants in France and Italy. The analysis is based on textual reviews collected from two different data sources: OpenTable and Yelp.\n",
    "\n",
    "By employing sentiment analysis, we aim to uncover trends and compare how Italian cuisine and the general quality of the related businesses are perceived across the two regions."
   ]
  },
  {
   "cell_type": "markdown",
   "metadata": {
    "id": "ccIm_zVvwBO8"
   },
   "source": [
    "## Yelp Fusion API"
   ]
  },
  {
   "cell_type": "code",
   "execution_count": null,
   "metadata": {
    "ExecuteTime": {
     "end_time": "2024-12-11T14:35:18.272155Z",
     "start_time": "2024-12-11T14:35:16.886384Z"
    },
    "colab": {
     "base_uri": "https://localhost:8080/"
    },
    "id": "iC8r-VuHvgli",
    "outputId": "bd909708-3009-4eda-c803-c0dbd711dc67"
   },
   "outputs": [
    {
     "name": "stdout",
     "output_type": "stream",
     "text": [
      "Error: 429 - {\"error\": {\"code\": \"ACCESS_LIMIT_REACHED\", \"description\": \"You've reached the access limit for this client. See instructions for requesting a higher access limit at https://docs.developer.yelp.com/docs/fusion-rate-limiting\"}}\n"
     ]
    }
   ],
   "source": [
    "import requests\n",
    "\n",
    "MAX_RESTAURANTS = 30\n",
    "API_KEY = \"3lX3EqE4bLsHCwaN8tyZ3kNNg_tykrIiw8cgEDcbNOeGYo9m22YYW5as-1dPp-f0Gy_X8_12CDEiqVgbM0SdKgKE2x94_w4-_PLu8Kfufdj-kBvbYWCGNmUUjyZHZ3Yx\"\n",
    "BASE_URL = \"https://api.yelp.com/v3/businesses/\"\n",
    "API_URL = f\"{BASE_URL}search?sort_by=rating&limit={MAX_RESTAURANTS}\"\n",
    "\n",
    "# Define the search parameters\n",
    "headers = {\"Authorization\": f\"Bearer {API_KEY}\"}\n",
    "params = {\n",
    "    \"term\": \"\",\n",
    "    \"location\": \"Rome, Italy\",\n",
    "    \"categories\": \"restaurants\",\n",
    "}\n",
    "\n",
    "# Make the request\n",
    "response = requests.get(API_URL, headers=headers, params=params)\n",
    "\n",
    "# Parse the response\n",
    "if response.status_code == 200:\n",
    "    data = response.json()\n",
    "    for business in data.get(\"businesses\"):\n",
    "        print(f\"Name: {business['name']}\")\n",
    "        print(f\"Rating: {business['rating']}\")\n",
    "        # print(f\"Address: {', '.join(business['location']['display_address'])}\")\n",
    "        # print(f\"Phone: {business.get('phone', 'N/A')}\")\n",
    "        url = BASE_URL + business['id']\n",
    "        response_business = requests.get(url, headers=headers)\n",
    "        if response_business.status_code == 200:\n",
    "            data_business = response_business.json()\n",
    "            review_count = data_business.get('review_count')\n",
    "            print(f\"Review count: {review_count}\")\n",
    "        print(\"-\" * 40)\n",
    "else:\n",
    "    print(f\"Error: {response.status_code} - {response.text}\")\n"
   ]
  },
  {
   "cell_type": "markdown",
   "metadata": {
    "id": "RqUqV0fCwFmF"
   },
   "source": [
    "# OpenTable\n",
    "The following queries the OpenTable website with the following parameters:\n",
    "* search term: Paris\n",
    "* cuisine: Italian\n",
    "* sort by: rating\n",
    "\n",
    "This query returns a list of the best 30 italian restaurants in Paris (at the moment of the search).\n",
    "This list is the used to open each restaurant's page so to scrape their reviews. All the sown reviews are captured.\n",
    "\n",
    "For demonstration purposes the obtained reviews are printed in the output."
   ]
  },
  {
   "cell_type": "code",
   "metadata": {
    "id": "i2hpITEV1eAp",
    "ExecuteTime": {
     "end_time": "2024-12-11T22:42:30.183366Z",
     "start_time": "2024-12-11T22:42:29.619082Z"
    }
   },
   "source": [
    "%pip install selenium --quiet"
   ],
   "outputs": [
    {
     "name": "stdout",
     "output_type": "stream",
     "text": [
      "Note: you may need to restart the kernel to use updated packages.\n"
     ]
    }
   ],
   "execution_count": 1
  },
  {
   "cell_type": "code",
   "metadata": {
    "id": "7QmkdPh2wKYy",
    "ExecuteTime": {
     "end_time": "2024-12-11T22:42:30.244723Z",
     "start_time": "2024-12-11T22:42:30.184897Z"
    }
   },
   "source": [
    "from selenium import webdriver\n",
    "from selenium.webdriver.common.by import By\n",
    "import time\n",
    "\n",
    "# needed so to have the lists (restaurants and reviews) loaded from the website\n",
    "def scroll_down_page(driver, speed=8):\n",
    "    current_scroll_position, new_height= 0, 1\n",
    "    while current_scroll_position <= new_height:\n",
    "        current_scroll_position += speed\n",
    "        driver.execute_script(\"window.scrollTo(0, {});\".format(current_scroll_position))\n",
    "        new_height = driver.execute_script(\"return document.body.scrollHeight\")\n",
    "\n",
    "# obtain the list of restaurants based on the predefined criteria\n",
    "def scrape_opentable_restaurants(keep_open=False, max_restaurants=10):\n",
    "    # queries OpenTable restaurants in 'Paris' under 'Italian' cousine category, ordered by rating\n",
    "    url = \"https://www.opentable.com/s?term=paris&cuisineIds%5B%5D=48e9d049-40cf-4cb9-98d9-8c47d0d58986&sortBy=rating\"\n",
    "    \n",
    "    # open the browser\n",
    "    driver = webdriver.Chrome()\n",
    "    driver.get(url)\n",
    "    time.sleep(3)\n",
    "    # scroll down the page so to have all the restaurants loaded\n",
    "    scroll_down_page(driver)\n",
    "    time.sleep(3)\n",
    "\n",
    "    restaurants = []\n",
    "\n",
    "    try:\n",
    "        # Extract restaurant elements\n",
    "        restaurant_elements = driver.find_elements(By.CLASS_NAME, 'qCITanV81-Y-')\n",
    "\n",
    "        for restaurant_element in restaurant_elements:\n",
    "            try:\n",
    "                restaurant_name = restaurant_element.text # name\n",
    "                restaurant_link = restaurant_element.get_attribute('href') # link\n",
    "                restaurant_link = restaurant_link[:-122] # remove parameters\n",
    "                restaurants.append({'restaurant_name': restaurant_name, 'restaurant_link': restaurant_link})\n",
    "\n",
    "            except Exception as e:\n",
    "                print(f\"Error extracting restaurants: {e}\")\n",
    "                continue\n",
    "\n",
    "    except Exception as e:\n",
    "        print(f\"Error during scraping: {e}\")\n",
    "    finally:\n",
    "        if not keep_open:\n",
    "            driver.quit()\n",
    "\n",
    "    return restaurants, driver\n",
    "\n",
    "# scrape reviews from the given restaurant\n",
    "def scrape_opentable_reviews(driver, url, keep_open=False, max_reviews=10):\n",
    "    \n",
    "    # open the browser if not already open\n",
    "    if driver is None:\n",
    "        driver = webdriver.Chrome()\n",
    "    driver.get(url)\n",
    "    time.sleep(3)\n",
    "\n",
    "    reviews = []\n",
    "\n",
    "    try:\n",
    "        # scroll down the page so to have all the reviews loaded\n",
    "        scroll_down_page(driver)\n",
    "        while len(reviews) < max_reviews:\n",
    "            review_elements = driver.find_elements(By.CLASS_NAME, 'afkKaa-4T28-')\n",
    "\n",
    "            for review_element in review_elements:\n",
    "                try:\n",
    "                    review_text = review_element.find_element(By.CLASS_NAME, '_6rFG6U7PA6M-').text\n",
    "                    review_date = review_element.find_element(By.CLASS_NAME, 'iLkEeQbexGs-').text\n",
    "                    reviews.append({'review_text': review_text, 'review_date': review_date})\n",
    "\n",
    "                    if len(reviews) >= max_reviews or len(review_elements) < 10:\n",
    "                        break\n",
    "                except Exception as e:\n",
    "                    print(f\"Error extracting review: {e}\")\n",
    "                    continue\n",
    "\n",
    "            # Attempt to click \"Load More Reviews\" if it exists\n",
    "            try:\n",
    "                navigation_buttons = driver.find_elements(By.CLASS_NAME, 'c7WhV7jX-Yc-')\n",
    "                navigation_buttons[1].click()\n",
    "                time.sleep(3)\n",
    "            except Exception as e:\n",
    "                print(f\"Error clicking 'Load More Reviews': {e}\")\n",
    "                break\n",
    "\n",
    "    except Exception as e:\n",
    "        print(f\"Error during scraping: {e}\")\n",
    "    finally:\n",
    "        if not keep_open:\n",
    "            driver.quit()\n",
    "\n",
    "    return reviews"
   ],
   "outputs": [],
   "execution_count": 2
  },
  {
   "cell_type": "code",
   "metadata": {
    "colab": {
     "base_uri": "https://localhost:8080/",
     "height": 718
    },
    "id": "S9wOoYrc1YkN",
    "outputId": "98cd6a4e-75cb-4139-a5d9-99a1a2e4119b",
    "ExecuteTime": {
     "end_time": "2024-12-11T22:43:01.301884Z",
     "start_time": "2024-12-11T22:42:30.245387Z"
    }
   },
   "source": [
    "restaurants, driver = scrape_opentable_restaurants(keep_open=True)\n",
    "\n",
    "print(\"restaurants count: \" + str(len(restaurants)))\n",
    "\n",
    "for n, restaurant in enumerate(restaurants):\n",
    "    print(f\"Restaurant: {restaurant['restaurant_name']}\")\n",
    "    reviews = scrape_opentable_reviews(driver, restaurant['restaurant_link'], keep_open= True if n < len(restaurants) else False)\n",
    "    \n",
    "    for idx, review in enumerate(reviews, 1):\n",
    "      print(f\"Review {idx}:\")\n",
    "      print(f\"Date: {review['review_date']}\")\n",
    "      print(f\"Text: {review['review_text'][0:10]}...\\n\")"
   ],
   "outputs": [
    {
     "name": "stdout",
     "output_type": "stream",
     "text": [
      "restaurants count: 3\n",
      "Restaurant: Truffes Folies Paris 7\n",
      "Error clicking 'Load More Reviews': Message: element click intercepted: Element <div class=\"c7WhV7jX-Yc-\" data-test=\"pagination-next\">...</div> is not clickable at point (658, 12). Other element would receive the click: <section class=\"aIgkg62Jlb4-\" data-testid=\"tabs-container\">...</section>\n",
      "  (Session info: chrome=131.0.6778.139)\n",
      "Stacktrace:\n",
      "0   chromedriver                        0x0000000104d63af0 cxxbridge1$str$ptr + 3651580\n",
      "1   chromedriver                        0x0000000104d5c340 cxxbridge1$str$ptr + 3620940\n",
      "2   chromedriver                        0x00000001047c44b4 cxxbridge1$string$len + 89224\n",
      "3   chromedriver                        0x000000010480e12c cxxbridge1$string$len + 391424\n",
      "4   chromedriver                        0x000000010480c77c cxxbridge1$string$len + 384848\n",
      "5   chromedriver                        0x000000010480a6c0 cxxbridge1$string$len + 376468\n",
      "6   chromedriver                        0x0000000104809af8 cxxbridge1$string$len + 373452\n",
      "7   chromedriver                        0x00000001047fefbc cxxbridge1$string$len + 329616\n",
      "8   chromedriver                        0x00000001047fea10 cxxbridge1$string$len + 328164\n",
      "9   chromedriver                        0x00000001048420fc cxxbridge1$string$len + 604368\n",
      "10  chromedriver                        0x00000001047fd0b0 cxxbridge1$string$len + 321668\n",
      "11  chromedriver                        0x00000001047fdd00 cxxbridge1$string$len + 324820\n",
      "12  chromedriver                        0x0000000104d2ee34 cxxbridge1$str$ptr + 3435328\n",
      "13  chromedriver                        0x0000000104d3214c cxxbridge1$str$ptr + 3448408\n",
      "14  chromedriver                        0x0000000104d161a8 cxxbridge1$str$ptr + 3333812\n",
      "15  chromedriver                        0x0000000104d32a0c cxxbridge1$str$ptr + 3450648\n",
      "16  chromedriver                        0x0000000104d079b4 cxxbridge1$str$ptr + 3274432\n",
      "17  chromedriver                        0x0000000104d4d120 cxxbridge1$str$ptr + 3558956\n",
      "18  chromedriver                        0x0000000104d4d29c cxxbridge1$str$ptr + 3559336\n",
      "19  chromedriver                        0x0000000104d5bfb4 cxxbridge1$str$ptr + 3620032\n",
      "20  libsystem_pthread.dylib             0x0000000194ddf2e4 _pthread_start + 136\n",
      "21  libsystem_pthread.dylib             0x0000000194dda0fc thread_start + 8\n",
      "\n",
      "Review 1:\n",
      "Date: Dined on November 25, 2024\n",
      "Text: Nice resta...\n",
      "\n",
      "Review 2:\n",
      "Date: Dined on November 8, 2024\n",
      "Text: Wonderful ...\n",
      "\n",
      "Review 3:\n",
      "Date: Dined on October 23, 2024\n",
      "Text: We randoml...\n",
      "\n",
      "Review 4:\n",
      "Date: Dined on October 18, 2024\n",
      "Text: Buena comi...\n",
      "\n",
      "Review 5:\n",
      "Date: Dined on September 19, 2024\n",
      "Text: Service an...\n",
      "\n",
      "Review 6:\n",
      "Date: Dined on September 16, 2024\n",
      "Text: Small but ...\n",
      "\n",
      "Review 7:\n",
      "Date: Dined on August 8, 2024\n",
      "Text: Stumbled u...\n",
      "\n",
      "Review 8:\n",
      "Date: Dined on August 2, 2024\n",
      "Text: Food was w...\n",
      "\n",
      "Review 9:\n",
      "Date: Dined on July 8, 2024\n",
      "Text: Amazing fo...\n",
      "\n",
      "Review 10:\n",
      "Date: Dined on July 4, 2024\n",
      "Text: A hidden g...\n",
      "\n",
      "Restaurant: Penati al Baretto\n",
      "NEW\n",
      "Error clicking 'Load More Reviews': list index out of range\n",
      "Review 1:\n",
      "Date: Dined on November 22, 2024\n",
      "Text: Merveilleu...\n",
      "\n",
      "Restaurant: Epoca Restaurant\n",
      "Error clicking 'Load More Reviews': list index out of range\n",
      "Review 1:\n",
      "Date: Dined on October 18, 2024\n",
      "Text: Fantastic ...\n",
      "\n"
     ]
    }
   ],
   "execution_count": 3
  },
  {
   "metadata": {},
   "cell_type": "code",
   "outputs": [],
   "execution_count": null,
   "source": ""
  }
 ],
 "metadata": {
  "colab": {
   "provenance": []
  },
  "kernelspec": {
   "display_name": "Python 3",
   "language": "python",
   "name": "python3"
  },
  "language_info": {
   "codemirror_mode": {
    "name": "ipython",
    "version": 3
   },
   "file_extension": ".py",
   "mimetype": "text/x-python",
   "name": "python",
   "nbconvert_exporter": "python",
   "pygments_lexer": "ipython3",
   "version": "3.12.7"
  }
 },
 "nbformat": 4,
 "nbformat_minor": 0
}
